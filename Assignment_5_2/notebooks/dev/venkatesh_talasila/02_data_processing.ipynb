{
 "cells": [
  {
   "cell_type": "markdown",
   "metadata": {},
   "source": [
    "# Purpose"
   ]
  },
  {
   "cell_type": "markdown",
   "metadata": {},
   "source": [
    "\n",
    "This notebook demonstrates the data pipeline from raw tables to analytical datasets. At the end of this activity, train & test data sets are created from raw data.\n",
    "\n"
   ]
  },
  {
   "cell_type": "markdown",
   "metadata": {},
   "source": [
    "## Imports"
   ]
  },
  {
   "cell_type": "code",
   "execution_count": 1,
   "metadata": {},
   "outputs": [],
   "source": [
    "from pprint import pprint\n",
    "import os\n",
    "import os.path as op\n",
    "import shutil\n",
    "\n",
    "# standard third party imports\n",
    "import numpy as np\n",
    "import pandas as pd\n",
    "from sklearn.model_selection import train_test_split\n",
    "pd.options.mode.use_inf_as_na = True\n"
   ]
  },
  {
   "cell_type": "code",
   "execution_count": 2,
   "metadata": {},
   "outputs": [],
   "source": [
    "%load_ext autoreload\n",
    "%autoreload 2"
   ]
  },
  {
   "cell_type": "code",
   "execution_count": null,
   "metadata": {},
   "outputs": [
    {
     "ename": "",
     "evalue": "",
     "output_type": "error",
     "traceback": [
      "\u001b[1;31mRunning cells with 'base' requires the ipykernel package.\n",
      "\u001b[1;31mRun the following command to install 'ipykernel' into the Python environment. \n",
      "\u001b[1;31mCommand: 'conda install -n base ipykernel --update-deps --force-reinstall'"
     ]
    }
   ],
   "source": [
    "# standard code-template imports\n",
    "from ta_lib.core.api import (\n",
    "    create_context, get_dataframe, get_feature_names_from_column_transformer, get_package_path,\n",
    "    display_as_tabs, string_cleaning, merge_info, initialize_environment,\n",
    "    list_datasets, load_dataset, save_dataset\n",
    ")\n",
    "import ta_lib.eda.api as eda"
   ]
  },
  {
   "cell_type": "code",
   "execution_count": 4,
   "metadata": {},
   "outputs": [],
   "source": [
    "import warnings\n",
    "\n",
    "warnings.filterwarnings('ignore', message=\"The default value of regex will change from True to False in a future version.\", \n",
    "                        category=FutureWarning)"
   ]
  },
  {
   "cell_type": "code",
   "execution_count": 5,
   "metadata": {},
   "outputs": [],
   "source": [
    "initialize_environment(debug=False, hide_warnings=True)"
   ]
  },
  {
   "cell_type": "markdown",
   "metadata": {},
   "source": [
    "## Utility functions"
   ]
  },
  {
   "cell_type": "markdown",
   "metadata": {},
   "source": [
    "# 1. Initialization"
   ]
  },
  {
   "cell_type": "code",
   "execution_count": 6,
   "metadata": {},
   "outputs": [
    {
     "name": "stdout",
     "output_type": "stream",
     "text": [
      "['/raw/housing',\n",
      " '/cleaned/housing',\n",
      " '/processed/housing',\n",
      " '/train/housing/features',\n",
      " '/train/housing/target',\n",
      " '/test/housing/features',\n",
      " '/test/housing/target',\n",
      " '/score/housing/output']\n"
     ]
    }
   ],
   "source": [
    "config_path = op.join('conf', 'config.yml')\n",
    "context = create_context(config_path)\n",
    "pprint(list_datasets(context))\n",
    "\n",
    "housing_df = load_dataset(context, 'raw/housing')"
   ]
  },
  {
   "cell_type": "markdown",
   "metadata": {},
   "source": [
    "# 2. Data cleaning and consolidation"
   ]
  },
  {
   "cell_type": "markdown",
   "metadata": {},
   "source": [
    "**<u>NOTES</u>**\n",
    "\n",
    "The focus here is to create a cleaned dataset that is appropriate for solving the DS problem at hand from the raw data.\n",
    "\n",
    "**1. Do**\n",
    "* clean dataframe column names\n",
    "* ensure dtypes are set properly\n",
    "* join with other tables etc to create features\n",
    "* transform, if appropriate, datetime like columns to generate additional features (weekday etc)\n",
    "* transform, if appropriate, string columns to generate additional features\n",
    "* discard cols that are not useful for training the model (IDs, constant cols, duplicate cols etc)\n",
    "* additional features generated from existing columns\n",
    "\n",
    "\n",
    "**2. Don't**\n",
    "* handle missing values or outliers here. mark them and leave them for processing downstream.\n"
   ]
  },
  {
   "cell_type": "markdown",
   "metadata": {},
   "source": [
    "## 2.1 Clean individual tables "
   ]
  },
  {
   "cell_type": "markdown",
   "metadata": {},
   "source": [
    "### Housing Table\n",
    "\n",
    "* This will go into production code\n"
   ]
  },
  {
   "cell_type": "code",
   "execution_count": 7,
   "metadata": {},
   "outputs": [
    {
     "data": {
      "text/html": [
       "<div>\n",
       "<style scoped>\n",
       "    .dataframe tbody tr th:only-of-type {\n",
       "        vertical-align: middle;\n",
       "    }\n",
       "\n",
       "    .dataframe tbody tr th {\n",
       "        vertical-align: top;\n",
       "    }\n",
       "\n",
       "    .dataframe thead th {\n",
       "        text-align: right;\n",
       "    }\n",
       "</style>\n",
       "<table border=\"1\" class=\"dataframe\">\n",
       "  <thead>\n",
       "    <tr style=\"text-align: right;\">\n",
       "      <th></th>\n",
       "      <th>longitude</th>\n",
       "      <th>latitude</th>\n",
       "      <th>housing_median_age</th>\n",
       "      <th>total_rooms</th>\n",
       "      <th>total_bedrooms</th>\n",
       "      <th>population</th>\n",
       "      <th>households</th>\n",
       "      <th>median_income</th>\n",
       "      <th>median_house_value</th>\n",
       "      <th>ocean_proximity</th>\n",
       "    </tr>\n",
       "  </thead>\n",
       "  <tbody>\n",
       "    <tr>\n",
       "      <th>0</th>\n",
       "      <td>-122.23</td>\n",
       "      <td>37.88</td>\n",
       "      <td>41.0</td>\n",
       "      <td>880.0</td>\n",
       "      <td>129.0</td>\n",
       "      <td>322.0</td>\n",
       "      <td>126.0</td>\n",
       "      <td>8.3252</td>\n",
       "      <td>452600.0</td>\n",
       "      <td>NEAR BAY</td>\n",
       "    </tr>\n",
       "    <tr>\n",
       "      <th>1</th>\n",
       "      <td>-122.22</td>\n",
       "      <td>37.86</td>\n",
       "      <td>21.0</td>\n",
       "      <td>7099.0</td>\n",
       "      <td>1106.0</td>\n",
       "      <td>2401.0</td>\n",
       "      <td>1138.0</td>\n",
       "      <td>8.3014</td>\n",
       "      <td>358500.0</td>\n",
       "      <td>NEAR BAY</td>\n",
       "    </tr>\n",
       "    <tr>\n",
       "      <th>2</th>\n",
       "      <td>-122.24</td>\n",
       "      <td>37.85</td>\n",
       "      <td>52.0</td>\n",
       "      <td>1467.0</td>\n",
       "      <td>190.0</td>\n",
       "      <td>496.0</td>\n",
       "      <td>177.0</td>\n",
       "      <td>7.2574</td>\n",
       "      <td>352100.0</td>\n",
       "      <td>NEAR BAY</td>\n",
       "    </tr>\n",
       "    <tr>\n",
       "      <th>3</th>\n",
       "      <td>-122.25</td>\n",
       "      <td>37.85</td>\n",
       "      <td>52.0</td>\n",
       "      <td>1274.0</td>\n",
       "      <td>235.0</td>\n",
       "      <td>558.0</td>\n",
       "      <td>219.0</td>\n",
       "      <td>5.6431</td>\n",
       "      <td>341300.0</td>\n",
       "      <td>NEAR BAY</td>\n",
       "    </tr>\n",
       "    <tr>\n",
       "      <th>4</th>\n",
       "      <td>-122.25</td>\n",
       "      <td>37.85</td>\n",
       "      <td>52.0</td>\n",
       "      <td>1627.0</td>\n",
       "      <td>280.0</td>\n",
       "      <td>565.0</td>\n",
       "      <td>259.0</td>\n",
       "      <td>3.8462</td>\n",
       "      <td>342200.0</td>\n",
       "      <td>NEAR BAY</td>\n",
       "    </tr>\n",
       "  </tbody>\n",
       "</table>\n",
       "</div>"
      ],
      "text/plain": [
       "   longitude  latitude  housing_median_age  total_rooms  total_bedrooms  \\\n",
       "0    -122.23     37.88                41.0        880.0           129.0   \n",
       "1    -122.22     37.86                21.0       7099.0          1106.0   \n",
       "2    -122.24     37.85                52.0       1467.0           190.0   \n",
       "3    -122.25     37.85                52.0       1274.0           235.0   \n",
       "4    -122.25     37.85                52.0       1627.0           280.0   \n",
       "\n",
       "   population  households  median_income  median_house_value ocean_proximity  \n",
       "0       322.0       126.0         8.3252            452600.0        NEAR BAY  \n",
       "1      2401.0      1138.0         8.3014            358500.0        NEAR BAY  \n",
       "2       496.0       177.0         7.2574            352100.0        NEAR BAY  \n",
       "3       558.0       219.0         5.6431            341300.0        NEAR BAY  \n",
       "4       565.0       259.0         3.8462            342200.0        NEAR BAY  "
      ]
     },
     "execution_count": 7,
     "metadata": {},
     "output_type": "execute_result"
    }
   ],
   "source": [
    "housing_df_clean = (\n",
    "    housing_df\n",
    "    # while iterating on testing, it's good to copy the dataset(or a subset)\n",
    "    # as the following steps will mutate the input dataframe. The copy should be\n",
    "    # removed in the production code to avoid introducing perf. bottlenecks.\n",
    "    .copy()\n",
    "\n",
    "    # set dtypes : nothing to do here\n",
    "    .passthrough()\n",
    ")\n",
    "housing_df_clean.head()"
   ]
  },
  {
   "cell_type": "markdown",
   "metadata": {},
   "source": [
    "### NOTE\n",
    "\n",
    "It's always a good idea to save cleaned tabular data using a storage format that supports the following \n",
    "\n",
    "1. preserves the type information\n",
    "2. language agnostic storage format\n",
    "3. Supports compression\n",
    "4. Supports customizing storage to optimize different data access patterns\n",
    "\n",
    "For larger datasets, the last two points become crucial.\n",
    "\n",
    "`Parquet` is one such file format that is very popular for storing tabular data. It has some nice properties:\n",
    "- Similar to pickles & RDS datasets, but compatible with all languages\n",
    "- Preserves the datatypes\n",
    "- Compresses the data and reduces the filesize\n",
    "- Good library support in Python and other languages\n",
    "- As a columnar storage we can efficiently read fewer columns\n",
    "- It also supports chunking data by groups of columns (for instance, by dates or a particular value of a key column) that makes loading subsets of the data fast."
   ]
  },
  {
   "cell_type": "code",
   "execution_count": 8,
   "metadata": {},
   "outputs": [],
   "source": [
    "save_dataset(context, housing_df_clean, 'cleaned/housing')"
   ]
  },
  {
   "cell_type": "markdown",
   "metadata": {},
   "source": [
    "## 2.3 Business intuition features\n",
    "\n",
    "This section can go into production code if these features are used in final model"
   ]
  },
  {
   "cell_type": "code",
   "execution_count": 9,
   "metadata": {},
   "outputs": [],
   "source": [
    "housing_df[\"rooms_per_household\"] = housing_df[\"total_rooms\"] / housing_df[\"households\"]\n",
    "housing_df[\"bedrooms_per_room\"] = housing_df[\"total_bedrooms\"] / housing_df[\"total_rooms\"]\n",
    "housing_df[\"population_per_household\"] = housing_df[\"population\"] / housing_df[\"households\"]"
   ]
  },
  {
   "cell_type": "code",
   "execution_count": 10,
   "metadata": {},
   "outputs": [
    {
     "data": {},
     "metadata": {},
     "output_type": "display_data"
    },
    {
     "data": {
      "application/vnd.holoviews_exec.v0+json": "",
      "text/html": [
       "<div id='1002'>\n",
       "  <div class=\"bk-root\" id=\"9b943eac-d377-4775-92c5-e6413a5ab3f4\" data-root-id=\"1002\"></div>\n",
       "</div>\n",
       "<script type=\"application/javascript\">(function(root) {\n",
       "  function embed_document(root) {\n",
       "    var docs_json = {\"6152a8ed-2433-40ec-9705-bf48064bfedc\":{\"defs\":[{\"extends\":null,\"module\":null,\"name\":\"ReactiveHTML1\",\"overrides\":[],\"properties\":[]},{\"extends\":null,\"module\":null,\"name\":\"FlexBox1\",\"overrides\":[],\"properties\":[{\"default\":\"flex-start\",\"kind\":null,\"name\":\"align_content\"},{\"default\":\"flex-start\",\"kind\":null,\"name\":\"align_items\"},{\"default\":\"row\",\"kind\":null,\"name\":\"flex_direction\"},{\"default\":\"wrap\",\"kind\":null,\"name\":\"flex_wrap\"},{\"default\":\"flex-start\",\"kind\":null,\"name\":\"justify_content\"}]},{\"extends\":null,\"module\":null,\"name\":\"GridStack1\",\"overrides\":[],\"properties\":[{\"default\":\"warn\",\"kind\":null,\"name\":\"mode\"},{\"default\":null,\"kind\":null,\"name\":\"ncols\"},{\"default\":null,\"kind\":null,\"name\":\"nrows\"},{\"default\":true,\"kind\":null,\"name\":\"allow_resize\"},{\"default\":true,\"kind\":null,\"name\":\"allow_drag\"},{\"default\":[],\"kind\":null,\"name\":\"state\"}]},{\"extends\":null,\"module\":null,\"name\":\"click1\",\"overrides\":[],\"properties\":[{\"default\":\"\",\"kind\":null,\"name\":\"terminal_output\"},{\"default\":\"\",\"kind\":null,\"name\":\"debug_name\"},{\"default\":0,\"kind\":null,\"name\":\"clears\"}]},{\"extends\":null,\"module\":null,\"name\":\"NotificationAreaBase1\",\"overrides\":[],\"properties\":[{\"default\":\"bottom-right\",\"kind\":null,\"name\":\"position\"},{\"default\":0,\"kind\":null,\"name\":\"_clear\"}]},{\"extends\":null,\"module\":null,\"name\":\"NotificationArea1\",\"overrides\":[],\"properties\":[{\"default\":[],\"kind\":null,\"name\":\"notifications\"},{\"default\":\"bottom-right\",\"kind\":null,\"name\":\"position\"},{\"default\":0,\"kind\":null,\"name\":\"_clear\"},{\"default\":[{\"background\":\"#ffc107\",\"icon\":{\"className\":\"fas fa-exclamation-triangle\",\"color\":\"white\",\"tagName\":\"i\"},\"type\":\"warning\"},{\"background\":\"#007bff\",\"icon\":{\"className\":\"fas fa-info-circle\",\"color\":\"white\",\"tagName\":\"i\"},\"type\":\"info\"}],\"kind\":null,\"name\":\"types\"}]},{\"extends\":null,\"module\":null,\"name\":\"Notification\",\"overrides\":[],\"properties\":[{\"default\":null,\"kind\":null,\"name\":\"background\"},{\"default\":3000,\"kind\":null,\"name\":\"duration\"},{\"default\":null,\"kind\":null,\"name\":\"icon\"},{\"default\":\"\",\"kind\":null,\"name\":\"message\"},{\"default\":null,\"kind\":null,\"name\":\"notification_type\"},{\"default\":false,\"kind\":null,\"name\":\"_destroyed\"}]},{\"extends\":null,\"module\":null,\"name\":\"TemplateActions1\",\"overrides\":[],\"properties\":[{\"default\":0,\"kind\":null,\"name\":\"open_modal\"},{\"default\":0,\"kind\":null,\"name\":\"close_modal\"}]},{\"extends\":null,\"module\":null,\"name\":\"MaterialTemplateActions1\",\"overrides\":[],\"properties\":[{\"default\":0,\"kind\":null,\"name\":\"open_modal\"},{\"default\":0,\"kind\":null,\"name\":\"close_modal\"}]}],\"roots\":{\"references\":[{\"attributes\":{\"editor\":{\"id\":\"1042\"},\"field\":\"index\",\"formatter\":{\"id\":\"1040\"},\"title\":\"index\",\"width\":0},\"id\":\"1043\",\"type\":\"TableColumn\"},{\"attributes\":{},\"id\":\"1018\",\"type\":\"StringFormatter\"},{\"attributes\":{\"editor\":{\"id\":\"1095\"},\"field\":\"20637\",\"formatter\":{\"id\":\"1094\"},\"title\":\"20637\",\"width\":0},\"id\":\"1096\",\"type\":\"TableColumn\"},{\"attributes\":{},\"id\":\"1042\",\"type\":\"CellEditor\"},{\"attributes\":{\"client_comm_id\":\"519e66b392be4cc790f9e51faf54d005\",\"comm_id\":\"fae473b6e9334531bf3737245c269104\",\"plot_id\":\"1002\"},\"id\":\"1132\",\"type\":\"panel.models.comm_manager.CommManager\"},{\"attributes\":{\"editor\":{\"id\":\"1090\"},\"field\":\"20636\",\"formatter\":{\"id\":\"1089\"},\"title\":\"20636\",\"width\":0},\"id\":\"1091\",\"type\":\"TableColumn\"},{\"attributes\":{},\"id\":\"1040\",\"type\":\"StringFormatter\"},{\"attributes\":{},\"id\":\"1047\",\"type\":\"StringEditor\"},{\"attributes\":{},\"id\":\"1090\",\"type\":\"StringEditor\"},{\"attributes\":{},\"id\":\"1046\",\"type\":\"StringFormatter\"},{\"attributes\":{},\"id\":\"1051\",\"type\":\"StringFormatter\"},{\"attributes\":{},\"id\":\"1089\",\"type\":\"StringFormatter\"},{\"attributes\":{\"editor\":{\"id\":\"1047\"},\"field\":\"0\",\"formatter\":{\"id\":\"1046\"},\"title\":\"0\",\"width\":0},\"id\":\"1048\",\"type\":\"TableColumn\"},{\"attributes\":{\"editor\":{\"id\":\"1052\"},\"field\":\"1\",\"formatter\":{\"id\":\"1051\"},\"title\":\"1\",\"width\":0},\"id\":\"1053\",\"type\":\"TableColumn\"},{\"attributes\":{},\"id\":\"1114\",\"type\":\"UnionRenderers\"},{\"attributes\":{},\"id\":\"1052\",\"type\":\"StringEditor\"},{\"attributes\":{},\"id\":\"1095\",\"type\":\"StringEditor\"},{\"attributes\":{},\"id\":\"1056\",\"type\":\"StringFormatter\"},{\"attributes\":{},\"id\":\"1094\",\"type\":\"StringFormatter\"},{\"attributes\":{},\"id\":\"1105\",\"type\":\"StringEditor\"},{\"attributes\":{},\"id\":\"1104\",\"type\":\"StringFormatter\"},{\"attributes\":{},\"id\":\"1100\",\"type\":\"StringEditor\"},{\"attributes\":{\"editor\":{\"id\":\"1057\"},\"field\":\"2\",\"formatter\":{\"id\":\"1056\"},\"title\":\"2\",\"width\":0},\"id\":\"1058\",\"type\":\"TableColumn\"},{\"attributes\":{},\"id\":\"1062\",\"type\":\"StringEditor\"},{\"attributes\":{},\"id\":\"1099\",\"type\":\"StringFormatter\"},{\"attributes\":{\"editor\":{\"id\":\"1100\"},\"field\":\"20638\",\"formatter\":{\"id\":\"1099\"},\"title\":\"20638\",\"width\":0},\"id\":\"1101\",\"type\":\"TableColumn\"},{\"attributes\":{},\"id\":\"1057\",\"type\":\"StringEditor\"},{\"attributes\":{\"source\":{\"id\":\"1076\"}},\"id\":\"1111\",\"type\":\"CDSView\"},{\"attributes\":{\"editor\":{\"id\":\"1062\"},\"field\":\"3\",\"formatter\":{\"id\":\"1061\"},\"title\":\"3\",\"width\":0},\"id\":\"1063\",\"type\":\"TableColumn\"},{\"attributes\":{},\"id\":\"1116\",\"type\":\"UnionRenderers\"},{\"attributes\":{},\"id\":\"1066\",\"type\":\"StringFormatter\"},{\"attributes\":{},\"id\":\"1061\",\"type\":\"StringFormatter\"},{\"attributes\":{\"editor\":{\"id\":\"1019\"},\"field\":\"Datatype\",\"formatter\":{\"id\":\"1018\"},\"title\":\"Datatype\",\"width\":0},\"id\":\"1020\",\"type\":\"TableColumn\"},{\"attributes\":{\"editor\":{\"id\":\"1105\"},\"field\":\"20639\",\"formatter\":{\"id\":\"1104\"},\"title\":\"20639\",\"width\":0},\"id\":\"1106\",\"type\":\"TableColumn\"},{\"attributes\":{},\"id\":\"1023\",\"type\":\"StringFormatter\"},{\"attributes\":{},\"id\":\"1019\",\"type\":\"StringEditor\"},{\"attributes\":{},\"id\":\"1028\",\"type\":\"StringFormatter\"},{\"attributes\":{\"margin\":[0,0,0,0],\"tabs\":[{\"id\":\"1004\"},{\"id\":\"1037\"},{\"id\":\"1075\"},{\"id\":\"1113\"}]},\"id\":\"1002\",\"type\":\"panel.models.tabs.Tabs\"},{\"attributes\":{\"editor\":{\"id\":\"1067\"},\"field\":\"4\",\"formatter\":{\"id\":\"1066\"},\"title\":\"4\",\"width\":0},\"id\":\"1068\",\"type\":\"TableColumn\"},{\"attributes\":{\"reload\":false},\"id\":\"1151\",\"type\":\"panel.models.location.Location\"},{\"attributes\":{\"columns\":[{\"id\":\"1010\"},{\"id\":\"1015\"},{\"id\":\"1020\"},{\"id\":\"1025\"},{\"id\":\"1030\"}],\"editable\":true,\"height\":300,\"index_position\":null,\"margin\":[5,10,5,10],\"name\":\"Variable summary\",\"row_height\":40,\"sizing_mode\":\"fixed\",\"source\":{\"id\":\"1005\"},\"view\":{\"id\":\"1035\"},\"width\":800},\"id\":\"1033\",\"type\":\"DataTable\"},{\"attributes\":{},\"id\":\"1024\",\"type\":\"StringEditor\"},{\"attributes\":{\"data\":{\"Datatype\":[\"float64\",\"float64\",\"float64\",\"float64\",\"float64\",\"float64\",\"float64\",\"float64\",\"float64\",\"object\",\"float64\",\"float64\",\"float64\"],\"No of Unique\":[\"844\",\"862\",\"52\",\"5926\",\"1923\",\"3888\",\"1815\",\"12928\",\"3842\",\"5\",\"19392\",\"19268\",\"18841\"],\"Samples\":[\"[-122.23, -122.22, -122.24, -122.25, -122.26]\",\"[37.88, 37.86, 37.85, 37.84, 37.83]\",\"[41.0, 21.0, 52.0, 42.0, 50.0]\",\"[880.0, 7099.0, 1467.0, 1274.0, 1627.0]\",\"[129.0, 1106.0, 190.0, 235.0, 280.0]\",\"[322.0, 2401.0, 496.0, 558.0, 565.0]\",\"[126.0, 1138.0, 177.0, 219.0, 259.0]\",\"[8.3252, 8.3014, 7.2574, 5.6431, 3.8462]\",\"[452600.0, 358500.0, 352100.0, 341300.0, 342200.0]\",\"['NEAR BAY', '<1H OCEAN', 'INLAND', 'NEAR OCEAN', 'ISLAND']\",\"[6.984126984126984, 6.238137082601054, 8.288135593220339, 5.8173515981735155, 6.281853281853282]\",\"[0.14659090909090908, 0.15579659106916466, 0.12951601908657123, 0.18445839874411302, 0.1720958819913952]\",\"[2.5555555555555554, 2.109841827768014, 2.8022598870056497, 2.547945205479452, 2.1814671814671813]\"],\"Variable Name\":[\"longitude\",\"latitude\",\"housing_median_age\",\"total_rooms\",\"total_bedrooms\",\"population\",\"households\",\"median_income\",\"median_house_value\",\"ocean_proximity\",\"rooms_per_household\",\"bedrooms_per_room\",\"population_per_household\"],\"index\":[\"longitude\",\"latitude\",\"housing_median_age\",\"total_rooms\",\"total_bedrooms\",\"population\",\"households\",\"median_income\",\"median_house_value\",\"ocean_proximity\",\"rooms_per_household\",\"bedrooms_per_room\",\"population_per_household\"]},\"selected\":{\"id\":\"1006\"},\"selection_policy\":{\"id\":\"1114\"}},\"id\":\"1005\",\"type\":\"ColumnDataSource\"},{\"attributes\":{},\"id\":\"1029\",\"type\":\"StringEditor\"},{\"attributes\":{},\"id\":\"1067\",\"type\":\"StringEditor\"},{\"attributes\":{\"indices\":[]},\"id\":\"1077\",\"type\":\"Selection\"},{\"attributes\":{\"columns\":[{\"id\":\"1081\"},{\"id\":\"1086\"},{\"id\":\"1091\"},{\"id\":\"1096\"},{\"id\":\"1101\"},{\"id\":\"1106\"}],\"editable\":true,\"height\":300,\"index_position\":null,\"margin\":[5,10,5,10],\"name\":\"tail\",\"row_height\":40,\"sizing_mode\":\"fixed\",\"source\":{\"id\":\"1076\"},\"view\":{\"id\":\"1111\"},\"width\":800},\"id\":\"1109\",\"type\":\"DataTable\"},{\"attributes\":{\"child\":{\"id\":\"1109\"},\"name\":\"tail\",\"title\":\"tail\"},\"id\":\"1113\",\"type\":\"Panel\"},{\"attributes\":{\"data\":{\"20635\":[\"-121.09\",\"39.48\",\"25.0\",\"1665.0\",\"374.0\",\"845.0\",\"330.0\",\"1.5603\",\"78100.0\",\"INLAND\",\"5.045454545454546\",\"0.22462462462462462\",\"2.5606060606060606\"],\"20636\":[\"-121.21\",\"39.49\",\"18.0\",\"697.0\",\"150.0\",\"356.0\",\"114.0\",\"2.5568\",\"77100.0\",\"INLAND\",\"6.114035087719298\",\"0.2152080344332855\",\"3.1228070175438596\"],\"20637\":[\"-121.22\",\"39.43\",\"17.0\",\"2254.0\",\"485.0\",\"1007.0\",\"433.0\",\"1.7\",\"92300.0\",\"INLAND\",\"5.20554272517321\",\"0.21517302573203195\",\"2.325635103926097\"],\"20638\":[\"-121.32\",\"39.43\",\"18.0\",\"1860.0\",\"409.0\",\"741.0\",\"349.0\",\"1.8672\",\"84700.0\",\"INLAND\",\"5.329512893982808\",\"0.21989247311827956\",\"2.1232091690544412\"],\"20639\":[\"-121.24\",\"39.37\",\"16.0\",\"2785.0\",\"616.0\",\"1387.0\",\"530.0\",\"2.3886\",\"89400.0\",\"INLAND\",\"5.254716981132075\",\"0.22118491921005387\",\"2.616981132075472\"],\"index\":[\"longitude\",\"latitude\",\"housing_median_age\",\"total_rooms\",\"total_bedrooms\",\"population\",\"households\",\"median_income\",\"median_house_value\",\"ocean_proximity\",\"rooms_per_household\",\"bedrooms_per_room\",\"population_per_household\"]},\"selected\":{\"id\":\"1077\"},\"selection_policy\":{\"id\":\"1118\"}},\"id\":\"1076\",\"type\":\"ColumnDataSource\"},{\"attributes\":{\"indices\":[]},\"id\":\"1039\",\"type\":\"Selection\"},{\"attributes\":{\"editor\":{\"id\":\"1024\"},\"field\":\"No of Unique\",\"formatter\":{\"id\":\"1023\"},\"title\":\"No of Unique\",\"width\":0},\"id\":\"1025\",\"type\":\"TableColumn\"},{\"attributes\":{\"css_classes\":[\"markdown\"],\"margin\":[5,5,5,5],\"name\":\"Summary\",\"text\":\"&lt;p&gt;Length: 20640, Columns: 13&lt;/p&gt;\"},\"id\":\"1003\",\"type\":\"panel.models.markup.HTML\"},{\"attributes\":{},\"id\":\"1078\",\"type\":\"StringFormatter\"},{\"attributes\":{\"child\":{\"id\":\"1071\"},\"name\":\"head\",\"title\":\"head\"},\"id\":\"1075\",\"type\":\"Panel\"},{\"attributes\":{\"editor\":{\"id\":\"1014\"},\"field\":\"Variable Name\",\"formatter\":{\"id\":\"1013\"},\"title\":\"Variable Name\",\"width\":0},\"id\":\"1015\",\"type\":\"TableColumn\"},{\"attributes\":{},\"id\":\"1118\",\"type\":\"UnionRenderers\"},{\"attributes\":{\"child\":{\"id\":\"1003\"},\"name\":\"Summary\",\"title\":\"Summary\"},\"id\":\"1004\",\"type\":\"Panel\"},{\"attributes\":{\"child\":{\"id\":\"1033\"},\"name\":\"Variable summary\",\"title\":\"Variable summary\"},\"id\":\"1037\",\"type\":\"Panel\"},{\"attributes\":{},\"id\":\"1009\",\"type\":\"CellEditor\"},{\"attributes\":{},\"id\":\"1007\",\"type\":\"StringFormatter\"},{\"attributes\":{\"data\":{\"0\":[\"-122.23\",\"37.88\",\"41.0\",\"880.0\",\"129.0\",\"322.0\",\"126.0\",\"8.3252\",\"452600.0\",\"NEAR BAY\",\"6.984126984126984\",\"0.14659090909090908\",\"2.5555555555555554\"],\"1\":[\"-122.22\",\"37.86\",\"21.0\",\"7099.0\",\"1106.0\",\"2401.0\",\"1138.0\",\"8.3014\",\"358500.0\",\"NEAR BAY\",\"6.238137082601054\",\"0.15579659106916466\",\"2.109841827768014\"],\"2\":[\"-122.24\",\"37.85\",\"52.0\",\"1467.0\",\"190.0\",\"496.0\",\"177.0\",\"7.2574\",\"352100.0\",\"NEAR BAY\",\"8.288135593220339\",\"0.12951601908657123\",\"2.8022598870056497\"],\"3\":[\"-122.25\",\"37.85\",\"52.0\",\"1274.0\",\"235.0\",\"558.0\",\"219.0\",\"5.6431\",\"341300.0\",\"NEAR BAY\",\"5.8173515981735155\",\"0.18445839874411302\",\"2.547945205479452\"],\"4\":[\"-122.25\",\"37.85\",\"52.0\",\"1627.0\",\"280.0\",\"565.0\",\"259.0\",\"3.8462\",\"342200.0\",\"NEAR BAY\",\"6.281853281853282\",\"0.1720958819913952\",\"2.1814671814671813\"],\"index\":[\"longitude\",\"latitude\",\"housing_median_age\",\"total_rooms\",\"total_bedrooms\",\"population\",\"households\",\"median_income\",\"median_house_value\",\"ocean_proximity\",\"rooms_per_household\",\"bedrooms_per_room\",\"population_per_household\"]},\"selected\":{\"id\":\"1039\"},\"selection_policy\":{\"id\":\"1116\"}},\"id\":\"1038\",\"type\":\"ColumnDataSource\"},{\"attributes\":{\"editor\":{\"id\":\"1085\"},\"field\":\"20635\",\"formatter\":{\"id\":\"1084\"},\"title\":\"20635\",\"width\":0},\"id\":\"1086\",\"type\":\"TableColumn\"},{\"attributes\":{\"editor\":{\"id\":\"1080\"},\"field\":\"index\",\"formatter\":{\"id\":\"1078\"},\"title\":\"index\",\"width\":0},\"id\":\"1081\",\"type\":\"TableColumn\"},{\"attributes\":{\"indices\":[]},\"id\":\"1006\",\"type\":\"Selection\"},{\"attributes\":{\"editor\":{\"id\":\"1029\"},\"field\":\"Samples\",\"formatter\":{\"id\":\"1028\"},\"title\":\"Samples\",\"width\":0},\"id\":\"1030\",\"type\":\"TableColumn\"},{\"attributes\":{\"source\":{\"id\":\"1005\"}},\"id\":\"1035\",\"type\":\"CDSView\"},{\"attributes\":{},\"id\":\"1080\",\"type\":\"CellEditor\"},{\"attributes\":{\"editor\":{\"id\":\"1009\"},\"field\":\"index\",\"formatter\":{\"id\":\"1007\"},\"title\":\"index\",\"width\":0},\"id\":\"1010\",\"type\":\"TableColumn\"},{\"attributes\":{},\"id\":\"1084\",\"type\":\"StringFormatter\"},{\"attributes\":{\"columns\":[{\"id\":\"1043\"},{\"id\":\"1048\"},{\"id\":\"1053\"},{\"id\":\"1058\"},{\"id\":\"1063\"},{\"id\":\"1068\"}],\"editable\":true,\"height\":300,\"index_position\":null,\"margin\":[5,10,5,10],\"name\":\"head\",\"row_height\":40,\"sizing_mode\":\"fixed\",\"source\":{\"id\":\"1038\"},\"view\":{\"id\":\"1073\"},\"width\":800},\"id\":\"1071\",\"type\":\"DataTable\"},{\"attributes\":{},\"id\":\"1013\",\"type\":\"StringFormatter\"},{\"attributes\":{},\"id\":\"1085\",\"type\":\"StringEditor\"},{\"attributes\":{},\"id\":\"1014\",\"type\":\"StringEditor\"},{\"attributes\":{\"source\":{\"id\":\"1038\"}},\"id\":\"1073\",\"type\":\"CDSView\"}],\"root_ids\":[\"1002\",\"1132\",\"1151\"]},\"title\":\"Bokeh Application\",\"version\":\"2.4.3\"}};\n",
       "    var render_items = [{\"docid\":\"6152a8ed-2433-40ec-9705-bf48064bfedc\",\"root_ids\":[\"1002\"],\"roots\":{\"1002\":\"9b943eac-d377-4775-92c5-e6413a5ab3f4\"}}];\n",
       "    root.Bokeh.embed.embed_items_notebook(docs_json, render_items);\n",
       "  }\n",
       "  if (root.Bokeh !== undefined && root.Bokeh.Panel !== undefined) {\n",
       "    embed_document(root);\n",
       "  } else {\n",
       "    var attempts = 0;\n",
       "    var timer = setInterval(function(root) {\n",
       "      if (root.Bokeh !== undefined && root.Bokeh.Panel !== undefined) {\n",
       "        clearInterval(timer);\n",
       "        embed_document(root);\n",
       "      } else if (document.readyState == \"complete\") {\n",
       "        attempts++;\n",
       "        if (attempts > 200) {\n",
       "          clearInterval(timer);\n",
       "          console.log(\"Bokeh: ERROR: Unable to run BokehJS code because BokehJS library is missing\");\n",
       "        }\n",
       "      }\n",
       "    }, 25, root)\n",
       "  }\n",
       "})(window);</script>"
      ],
      "text/plain": [
       "Tabs\n",
       "    [0] Markdown(str, name='Summary')\n",
       "    [1] DataFrame(height=300, name='Variable summary', sizing_mode='fixed', value=                          ..., width=800)\n",
       "    [2] DataFrame(height=300, name='head', sizing_mode='fixed', value=              ..., width=800)\n",
       "    [3] DataFrame(height=300, name='tail', sizing_mode='fixed', value=              ..., width=800)"
      ]
     },
     "execution_count": 10,
     "metadata": {
      "application/vnd.holoviews_exec.v0+json": {
       "id": "1002"
      }
     },
     "output_type": "execute_result"
    }
   ],
   "source": [
    "# create a sample dataframe with minimal processing\n",
    "\n",
    "housing_df_processed = (\n",
    "    housing_df\n",
    "    \n",
    "    # tweak to test pipeline quickly or profile performance\n",
    "    #.sample(frac=1, replace=False)\n",
    "    \n",
    "    # any additional processing/cleaning\n",
    ")\n",
    "\n",
    "# Any verifications on the data\n",
    "from ta_lib.eda.api import get_variable_summary\n",
    "display_as_tabs([\n",
    "    (\"Summary\", f\"Length: {len(housing_df_processed)}, Columns: {len(housing_df_processed.columns)}\"),\n",
    "    (\"Variable summary\", get_variable_summary(housing_df_processed)),\n",
    "    (\"head\", housing_df.head(5).T),\n",
    "    (\"tail\", housing_df.tail(5).T),\n",
    "])"
   ]
  },
  {
   "cell_type": "code",
   "execution_count": 11,
   "metadata": {},
   "outputs": [],
   "source": [
    "save_dataset(context, housing_df_processed, 'processed/housing')"
   ]
  },
  {
   "cell_type": "markdown",
   "metadata": {},
   "source": [
    "# 3. Generate Train, Validation and Test datasets\n",
    "\n"
   ]
  },
  {
   "cell_type": "markdown",
   "metadata": {},
   "source": [
    "- We split the data into train, test (optionally, also a validation dataset)\n",
    "- In this example, we are binning the median_income into 5 bins and then use a Stratified Shuffle to split the data.\n",
    "- See sklearn documentation on the various available splitters\n",
    "- https://scikit-learn.org/stable/modules/classes.html#splitter-classes\n",
    "- This will go into production code (training only)"
   ]
  },
  {
   "cell_type": "code",
   "execution_count": 12,
   "metadata": {},
   "outputs": [],
   "source": [
    "from sklearn.model_selection import StratifiedShuffleSplit\n",
    "from ta_lib.core.api import custom_train_test_split  # helper function to customize splitting\n",
    "from scripts import *\n",
    "\n",
    "splitter = StratifiedShuffleSplit(n_splits=1, test_size=0.2, random_state=42)\n",
    "housing_df_train, housing_df_test = custom_train_test_split(housing_df_processed, splitter, by=binned_income)\n",
    "\n",
    "for set_ in (housing_df_train, housing_df_test):\n",
    "        set_.drop(\"income_cat\", axis=1, inplace=True)"
   ]
  },
  {
   "cell_type": "code",
   "execution_count": 13,
   "metadata": {},
   "outputs": [],
   "source": [
    "target_col = \"median_house_value\"\n",
    "\n",
    "train_X, train_y = (\n",
    "    housing_df_train\n",
    "    \n",
    "    # split the dataset to train and test\n",
    "    .get_features_targets(target_column_names=target_col)\n",
    ")\n",
    "save_dataset(context, train_X, 'train/housing/features')\n",
    "save_dataset(context, train_y, 'train/housing/target')\n",
    "\n",
    "\n",
    "test_X, test_y = (\n",
    "    housing_df_test\n",
    "    \n",
    "    # split the dataset to train and test\n",
    "    .get_features_targets(target_column_names=target_col)\n",
    ")\n",
    "save_dataset(context, test_X, 'test/housing/features')\n",
    "save_dataset(context, test_y, 'test/housing/target')"
   ]
  },
  {
   "cell_type": "markdown",
   "metadata": {},
   "source": [
    "### Custom Transformer that supports both forward and inverse transforms"
   ]
  },
  {
   "cell_type": "code",
   "execution_count": 14,
   "metadata": {},
   "outputs": [],
   "source": [
    "from custom_transformer import CustomTransformer\n",
    "import unit_test"
   ]
  },
  {
   "cell_type": "code",
   "execution_count": 15,
   "metadata": {},
   "outputs": [],
   "source": [
    "custom_scaler = CustomTransformer()"
   ]
  },
  {
   "cell_type": "code",
   "execution_count": 16,
   "metadata": {},
   "outputs": [
    {
     "data": {
      "text/html": [
       "<div>\n",
       "<style scoped>\n",
       "    .dataframe tbody tr th:only-of-type {\n",
       "        vertical-align: middle;\n",
       "    }\n",
       "\n",
       "    .dataframe tbody tr th {\n",
       "        vertical-align: top;\n",
       "    }\n",
       "\n",
       "    .dataframe thead th {\n",
       "        text-align: right;\n",
       "    }\n",
       "</style>\n",
       "<table border=\"1\" class=\"dataframe\">\n",
       "  <thead>\n",
       "    <tr style=\"text-align: right;\">\n",
       "      <th></th>\n",
       "      <th>longitude</th>\n",
       "      <th>latitude</th>\n",
       "      <th>housing_median_age</th>\n",
       "      <th>total_rooms</th>\n",
       "      <th>total_bedrooms</th>\n",
       "      <th>population</th>\n",
       "      <th>households</th>\n",
       "      <th>median_income</th>\n",
       "      <th>rooms_per_household</th>\n",
       "      <th>bedrooms_per_room</th>\n",
       "      <th>population_per_household</th>\n",
       "    </tr>\n",
       "  </thead>\n",
       "  <tbody>\n",
       "    <tr>\n",
       "      <th>12655</th>\n",
       "      <td>-0.941322</td>\n",
       "      <td>1.347397</td>\n",
       "      <td>0.027563</td>\n",
       "      <td>0.584760</td>\n",
       "      <td>0.635103</td>\n",
       "      <td>0.732580</td>\n",
       "      <td>0.556269</td>\n",
       "      <td>-0.893620</td>\n",
       "      <td>0.017395</td>\n",
       "      <td>-0.123552</td>\n",
       "      <td>0.006222</td>\n",
       "    </tr>\n",
       "    <tr>\n",
       "      <th>15502</th>\n",
       "      <td>1.171747</td>\n",
       "      <td>-1.192404</td>\n",
       "      <td>-1.721965</td>\n",
       "      <td>1.261428</td>\n",
       "      <td>0.775653</td>\n",
       "      <td>0.533595</td>\n",
       "      <td>0.721296</td>\n",
       "      <td>1.292129</td>\n",
       "      <td>0.569238</td>\n",
       "      <td>-0.909033</td>\n",
       "      <td>-0.040810</td>\n",
       "    </tr>\n",
       "    <tr>\n",
       "      <th>2908</th>\n",
       "      <td>0.267573</td>\n",
       "      <td>-0.125968</td>\n",
       "      <td>1.220423</td>\n",
       "      <td>-0.469759</td>\n",
       "      <td>-0.545029</td>\n",
       "      <td>-0.674655</td>\n",
       "      <td>-0.524391</td>\n",
       "      <td>-0.525418</td>\n",
       "      <td>-0.018024</td>\n",
       "      <td>-0.370843</td>\n",
       "      <td>-0.075369</td>\n",
       "    </tr>\n",
       "    <tr>\n",
       "      <th>14053</th>\n",
       "      <td>1.221701</td>\n",
       "      <td>-1.351433</td>\n",
       "      <td>-0.370057</td>\n",
       "      <td>-0.348641</td>\n",
       "      <td>-0.038565</td>\n",
       "      <td>-0.467603</td>\n",
       "      <td>-0.037296</td>\n",
       "      <td>-0.865903</td>\n",
       "      <td>-0.595122</td>\n",
       "      <td>1.109002</td>\n",
       "      <td>-0.106800</td>\n",
       "    </tr>\n",
       "    <tr>\n",
       "      <th>20496</th>\n",
       "      <td>0.437418</td>\n",
       "      <td>-0.635799</td>\n",
       "      <td>-0.131485</td>\n",
       "      <td>0.427167</td>\n",
       "      <td>0.269190</td>\n",
       "      <td>0.374049</td>\n",
       "      <td>0.220892</td>\n",
       "      <td>0.325742</td>\n",
       "      <td>0.251234</td>\n",
       "      <td>-0.525994</td>\n",
       "      <td>0.006109</td>\n",
       "    </tr>\n",
       "  </tbody>\n",
       "</table>\n",
       "</div>"
      ],
      "text/plain": [
       "       longitude  latitude  housing_median_age  total_rooms  total_bedrooms  \\\n",
       "12655  -0.941322  1.347397            0.027563     0.584760        0.635103   \n",
       "15502   1.171747 -1.192404           -1.721965     1.261428        0.775653   \n",
       "2908    0.267573 -0.125968            1.220423    -0.469759       -0.545029   \n",
       "14053   1.221701 -1.351433           -0.370057    -0.348641       -0.038565   \n",
       "20496   0.437418 -0.635799           -0.131485     0.427167        0.269190   \n",
       "\n",
       "       population  households  median_income  rooms_per_household  \\\n",
       "12655    0.732580    0.556269      -0.893620             0.017395   \n",
       "15502    0.533595    0.721296       1.292129             0.569238   \n",
       "2908    -0.674655   -0.524391      -0.525418            -0.018024   \n",
       "14053   -0.467603   -0.037296      -0.865903            -0.595122   \n",
       "20496    0.374049    0.220892       0.325742             0.251234   \n",
       "\n",
       "       bedrooms_per_room  population_per_household  \n",
       "12655          -0.123552                  0.006222  \n",
       "15502          -0.909033                 -0.040810  \n",
       "2908           -0.370843                 -0.075369  \n",
       "14053           1.109002                 -0.106800  \n",
       "20496          -0.525994                  0.006109  "
      ]
     },
     "execution_count": 16,
     "metadata": {},
     "output_type": "execute_result"
    }
   ],
   "source": [
    "num_columns = train_X.select_dtypes('number').columns\n",
    "train_X_transformed = custom_scaler.transform(train_X[num_columns])\n",
    "train_X_transformed.head()"
   ]
  },
  {
   "cell_type": "code",
   "execution_count": 17,
   "metadata": {},
   "outputs": [
    {
     "name": "stderr",
     "output_type": "stream",
     "text": [
      "Dropping of nuisance columns in DataFrame reductions (with 'numeric_only=None') is deprecated; in a future version this will raise TypeError.  Select only valid columns before calling the reduction.\n"
     ]
    },
    {
     "data": {
      "text/html": [
       "<div>\n",
       "<style scoped>\n",
       "    .dataframe tbody tr th:only-of-type {\n",
       "        vertical-align: middle;\n",
       "    }\n",
       "\n",
       "    .dataframe tbody tr th {\n",
       "        vertical-align: top;\n",
       "    }\n",
       "\n",
       "    .dataframe thead th {\n",
       "        text-align: right;\n",
       "    }\n",
       "</style>\n",
       "<table border=\"1\" class=\"dataframe\">\n",
       "  <thead>\n",
       "    <tr style=\"text-align: right;\">\n",
       "      <th></th>\n",
       "      <th>longitude</th>\n",
       "      <th>latitude</th>\n",
       "      <th>housing_median_age</th>\n",
       "      <th>total_rooms</th>\n",
       "      <th>total_bedrooms</th>\n",
       "      <th>population</th>\n",
       "      <th>households</th>\n",
       "      <th>median_income</th>\n",
       "      <th>rooms_per_household</th>\n",
       "      <th>bedrooms_per_room</th>\n",
       "      <th>population_per_household</th>\n",
       "    </tr>\n",
       "  </thead>\n",
       "  <tbody>\n",
       "    <tr>\n",
       "      <th>12655</th>\n",
       "      <td>-121.46</td>\n",
       "      <td>38.52</td>\n",
       "      <td>29.0</td>\n",
       "      <td>3873.0</td>\n",
       "      <td>797.0</td>\n",
       "      <td>2237.0</td>\n",
       "      <td>706.0</td>\n",
       "      <td>2.1736</td>\n",
       "      <td>5.485836</td>\n",
       "      <td>0.205784</td>\n",
       "      <td>3.168555</td>\n",
       "    </tr>\n",
       "    <tr>\n",
       "      <th>15502</th>\n",
       "      <td>-117.23</td>\n",
       "      <td>33.09</td>\n",
       "      <td>7.0</td>\n",
       "      <td>5320.0</td>\n",
       "      <td>855.0</td>\n",
       "      <td>2015.0</td>\n",
       "      <td>768.0</td>\n",
       "      <td>6.3373</td>\n",
       "      <td>6.927083</td>\n",
       "      <td>0.160714</td>\n",
       "      <td>2.623698</td>\n",
       "    </tr>\n",
       "    <tr>\n",
       "      <th>2908</th>\n",
       "      <td>-119.04</td>\n",
       "      <td>35.37</td>\n",
       "      <td>44.0</td>\n",
       "      <td>1618.0</td>\n",
       "      <td>310.0</td>\n",
       "      <td>667.0</td>\n",
       "      <td>300.0</td>\n",
       "      <td>2.8750</td>\n",
       "      <td>5.393333</td>\n",
       "      <td>0.191595</td>\n",
       "      <td>2.223333</td>\n",
       "    </tr>\n",
       "    <tr>\n",
       "      <th>14053</th>\n",
       "      <td>-117.13</td>\n",
       "      <td>32.75</td>\n",
       "      <td>24.0</td>\n",
       "      <td>1877.0</td>\n",
       "      <td>519.0</td>\n",
       "      <td>898.0</td>\n",
       "      <td>483.0</td>\n",
       "      <td>2.2264</td>\n",
       "      <td>3.886128</td>\n",
       "      <td>0.276505</td>\n",
       "      <td>1.859213</td>\n",
       "    </tr>\n",
       "    <tr>\n",
       "      <th>20496</th>\n",
       "      <td>-118.70</td>\n",
       "      <td>34.28</td>\n",
       "      <td>27.0</td>\n",
       "      <td>3536.0</td>\n",
       "      <td>646.0</td>\n",
       "      <td>1837.0</td>\n",
       "      <td>580.0</td>\n",
       "      <td>4.4964</td>\n",
       "      <td>6.096552</td>\n",
       "      <td>0.182692</td>\n",
       "      <td>3.167241</td>\n",
       "    </tr>\n",
       "  </tbody>\n",
       "</table>\n",
       "</div>"
      ],
      "text/plain": [
       "       longitude  latitude  housing_median_age  total_rooms  total_bedrooms  \\\n",
       "12655    -121.46     38.52                29.0       3873.0           797.0   \n",
       "15502    -117.23     33.09                 7.0       5320.0           855.0   \n",
       "2908     -119.04     35.37                44.0       1618.0           310.0   \n",
       "14053    -117.13     32.75                24.0       1877.0           519.0   \n",
       "20496    -118.70     34.28                27.0       3536.0           646.0   \n",
       "\n",
       "       population  households  median_income  rooms_per_household  \\\n",
       "12655      2237.0       706.0         2.1736             5.485836   \n",
       "15502      2015.0       768.0         6.3373             6.927083   \n",
       "2908        667.0       300.0         2.8750             5.393333   \n",
       "14053       898.0       483.0         2.2264             3.886128   \n",
       "20496      1837.0       580.0         4.4964             6.096552   \n",
       "\n",
       "       bedrooms_per_room  population_per_household  \n",
       "12655           0.205784                  3.168555  \n",
       "15502           0.160714                  2.623698  \n",
       "2908            0.191595                  2.223333  \n",
       "14053           0.276505                  1.859213  \n",
       "20496           0.182692                  3.167241  "
      ]
     },
     "execution_count": 17,
     "metadata": {},
     "output_type": "execute_result"
    }
   ],
   "source": [
    "train_X_inv_transformed = custom_scaler.inverse_transform(train_X,train_X_transformed)\n",
    "train_X_inv_transformed.head()"
   ]
  }
 ],
 "metadata": {
  "kernelspec": {
   "display_name": "Python 3 (ipykernel)",
   "language": "python",
   "name": "python3"
  },
  "language_info": {
   "codemirror_mode": {
    "name": "ipython",
    "version": 3
   },
   "file_extension": ".py",
   "mimetype": "text/x-python",
   "name": "python",
   "nbconvert_exporter": "python",
   "pygments_lexer": "ipython3",
   "version": "3.11.4"
  }
 },
 "nbformat": 4,
 "nbformat_minor": 4
}
